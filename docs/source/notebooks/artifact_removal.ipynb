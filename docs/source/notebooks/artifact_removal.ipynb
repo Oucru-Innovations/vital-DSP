{
 "cells": [
  {
   "cell_type": "markdown",
   "metadata": {},
   "source": [
    "# Artifact Removal"
   ]
  },
  {
   "cell_type": "markdown",
   "metadata": {},
   "source": [
    "## Mean Subtraction"
   ]
  },
  {
   "cell_type": "code",
   "execution_count": null,
   "metadata": {},
   "outputs": [],
   "source": [
    "from vitalDSP.filtering.artifact_removal import ArtifactRemoval\n",
    "import numpy as np\n",
    "from plotly import graph_objects as go\n",
    "import os\n",
    "from vitalDSP.notebooks import process_in_chunks, plot_trace\n",
    "\n",
    "\n",
    "FILE_PATH = os.path.join(\"..\",\"..\",\"..\",\"sample_data\",\"public\",\"ecg.csv\")\n",
    "signal_col, date_col = process_in_chunks(FILE_PATH,data_type='ecg', fs=256)\n",
    "signal_col = np.array(signal_col)\n",
    "\n",
    "ar = ArtifactRemoval(signal_col)\n",
    "cleaned_signal = ar.mean_subtraction()\n",
    "\n",
    "plot_trace(signal_col,cleaned_signal)"
   ]
  },
  {
   "cell_type": "markdown",
   "metadata": {},
   "source": [
    "## Baseline Correction"
   ]
  },
  {
   "cell_type": "code",
   "execution_count": null,
   "metadata": {},
   "outputs": [],
   "source": [
    "from vitalDSP.filtering.artifact_removal import ArtifactRemoval\n",
    "import numpy as np\n",
    "from plotly import graph_objects as go\n",
    "import os\n",
    "from vitalDSP.notebooks import process_in_chunks, plot_trace\n",
    "\n",
    "fs = 256\n",
    "FILE_PATH = os.path.join(\"..\",\"..\",\"..\",\"sample_data\",\"public\",\"ecg.csv\")\n",
    "signal_col, date_col = process_in_chunks(FILE_PATH,data_type='ecg', fs=fs)\n",
    "signal_col = np.array(signal_col)\n",
    "\n",
    "ar = ArtifactRemoval(signal_col)\n",
    "cleaned_signal = ar.baseline_correction(cutoff=0.5, fs=fs)\n",
    "\n",
    "plot_trace(signal_col,cleaned_signal)"
   ]
  },
  {
   "cell_type": "markdown",
   "metadata": {},
   "source": [
    "## Wavelet Denoising"
   ]
  },
  {
   "cell_type": "code",
   "execution_count": null,
   "metadata": {},
   "outputs": [],
   "source": [
    "from vitalDSP.filtering.artifact_removal import ArtifactRemoval\n",
    "import numpy as np\n",
    "from plotly import graph_objects as go\n",
    "import os\n",
    "from vitalDSP.notebooks import process_in_chunks, plot_trace\n",
    "\n",
    "fs = 256\n",
    "FILE_PATH = os.path.join(\"..\",\"..\",\"..\",\"sample_data\",\"public\",\"ecg.csv\")\n",
    "signal_col, date_col = process_in_chunks(FILE_PATH,data_type='ecg', fs=fs)\n",
    "signal_col = np.array(signal_col)\n",
    "\n",
    "ar = ArtifactRemoval(signal_col)\n",
    "\n",
    "cleaned_signal = ar.wavelet_denoising(\n",
    "    wavelet_type='db', \n",
    "    level=2, \n",
    "    order=4, \n",
    "    smoothing='gaussian', \n",
    "    sigma=1.0  # This will now be passed correctly through smoothing_params\n",
    ")\n",
    "plot_trace(signal_col,np.real(cleaned_signal),title=\"Debauchy & Gaussian\")\n",
    "\n",
    "clean_signal = ar.wavelet_denoising(wavelet_type='haar', level=3, \n",
    "                                    smoothing='median', kernel_size=5)\n",
    "plot_trace(signal_col,np.real(cleaned_signal),title=\"Haar & Median\")\n",
    "\n",
    "clean_signal = ar.wavelet_denoising(wavelet_type='sym', level=3, \n",
    "                                    smoothing='moving_average', window_size=7)\n",
    "plot_trace(signal_col,np.real(cleaned_signal),title=\"Symmetric & MAE\")\n",
    "\n",
    "custom_wavelet = np.array([0.1,0.2,0.4,0.2,0.1,1,-0.5,0.1,0.2,0.5,0.2,0.2])\n",
    "clean_signal = ar.wavelet_denoising(wavelet_type='custom', \n",
    "                                    custom_wavelet=custom_wavelet, \n",
    "                                    smoothing='lowpass', cutoff=0.3, fs=fs)\n",
    "plot_trace(signal_col,np.real(cleaned_signal),title=\"Custom & Low-pass\")"
   ]
  },
  {
   "cell_type": "markdown",
   "metadata": {},
   "source": [
    "## Adaptive Filtering"
   ]
  },
  {
   "cell_type": "code",
   "execution_count": null,
   "metadata": {},
   "outputs": [],
   "source": [
    "from vitalDSP.filtering.artifact_removal import ArtifactRemoval\n",
    "import numpy as np\n",
    "from plotly import graph_objects as go\n",
    "import os\n",
    "from vitalDSP.utils.synthesize_data import generate_ecg_signal\n",
    "from vitalDSP.notebooks import process_in_chunks, plot_trace\n",
    "\n",
    "fs = 256\n",
    "FILE_PATH = os.path.join(\"..\",\"..\",\"..\",\"sample_data\",\"public\",\"ecg.csv\")\n",
    "signal_col, date_col = process_in_chunks(FILE_PATH,data_type='ecg', fs=fs)\n",
    "signal_col = np.array(signal_col)\n",
    "\n",
    "offset = 1000\n",
    "target, peaks = generate_ecg_signal(sfecg=256, N=offset+len(signal_col)//256, Anoise=0.01, hrmean=70, sfint=512)\n",
    "reference_signal = target[offset:min(len(target),len(signal_col))+offset]\n",
    "ar = ArtifactRemoval(signal_col)\n",
    "cleaned_signal = ar.adaptive_filtering(reference_signal, learning_rate=0.01, num_iterations=50)\n",
    "\n",
    "plot_trace(signal_col,cleaned_signal)"
   ]
  },
  {
   "cell_type": "markdown",
   "metadata": {},
   "source": [
    "## Notch Filter"
   ]
  },
  {
   "cell_type": "code",
   "execution_count": null,
   "metadata": {},
   "outputs": [],
   "source": [
    "from vitalDSP.filtering.artifact_removal import ArtifactRemoval\n",
    "import numpy as np\n",
    "from plotly import graph_objects as go\n",
    "import os\n",
    "from vitalDSP.notebooks import process_in_chunks, plot_trace\n",
    "\n",
    "fs = 256\n",
    "FILE_PATH = os.path.join(\"..\",\"..\",\"..\",\"sample_data\",\"public\",\"ecg.csv\")\n",
    "signal_col, date_col = process_in_chunks(FILE_PATH,data_type='ecg', fs=fs)\n",
    "signal_col = np.array(signal_col)\n",
    "\n",
    "ar = ArtifactRemoval(signal_col)\n",
    "cleaned_signal = ar.notch_filter(freq=5, fs=fs, Q=2)\n",
    "\n",
    "plot_trace(signal_col,cleaned_signal)"
   ]
  },
  {
   "cell_type": "markdown",
   "metadata": {},
   "source": [
    "## PCA Artifact Removal"
   ]
  },
  {
   "cell_type": "code",
   "execution_count": null,
   "metadata": {},
   "outputs": [],
   "source": [
    "from vitalDSP.filtering.artifact_removal import ArtifactRemoval\n",
    "import numpy as np\n",
    "from plotly import graph_objects as go\n",
    "import os\n",
    "from vitalDSP.notebooks import process_in_chunks, plot_trace\n",
    "\n",
    "fs = 256\n",
    "FILE_PATH = os.path.join(\"..\",\"..\",\"..\",\"sample_data\",\"public\",\"ecg.csv\")\n",
    "signal_col, date_col = process_in_chunks(FILE_PATH,data_type='ecg', fs=fs)\n",
    "signal_col = np.array(signal_col)\n",
    "\n",
    "ar = ArtifactRemoval(signal_col)\n",
    "cleaned_signal = ar.pca_artifact_removal(num_components=1,window_size=5, overlap=1) #QRS T Components\n",
    "\n",
    "plot_trace(signal_col,cleaned_signal)"
   ]
  },
  {
   "cell_type": "markdown",
   "metadata": {},
   "source": [
    "## ICA Artifact Removal"
   ]
  },
  {
   "cell_type": "code",
   "execution_count": null,
   "metadata": {},
   "outputs": [],
   "source": [
    "from vitalDSP.filtering.artifact_removal import ArtifactRemoval\n",
    "import numpy as np\n",
    "from plotly import graph_objects as go\n",
    "import os\n",
    "from vitalDSP.notebooks import process_in_chunks, plot_trace\n",
    "\n",
    "fs = 256\n",
    "FILE_PATH = os.path.join(\"..\",\"..\",\"..\",\"sample_data\",\"public\",\"ecg.csv\")\n",
    "signal_col, date_col = process_in_chunks(FILE_PATH,data_type='ecg', fs=fs)\n",
    "signal_col = np.array(signal_col)\n",
    "\n",
    "ar = ArtifactRemoval(signal_col)\n",
    "cleaned_signal = ar.ica_artifact_removal(num_components=1, window_size=3, \n",
    "                                         step_size=1, batch_size=200)\n",
    "\n",
    "plot_trace(signal_col,cleaned_signal)"
   ]
  }
 ],
 "metadata": {
  "kernelspec": {
   "display_name": "vital",
   "language": "python",
   "name": "python3"
  },
  "language_info": {
   "codemirror_mode": {
    "name": "ipython",
    "version": 3
   },
   "file_extension": ".py",
   "mimetype": "text/x-python",
   "name": "python",
   "nbconvert_exporter": "python",
   "pygments_lexer": "ipython3",
   "version": "3.10.14"
  }
 },
 "nbformat": 4,
 "nbformat_minor": 2
}
