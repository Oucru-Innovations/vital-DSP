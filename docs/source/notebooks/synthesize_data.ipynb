{
 "cells": [
  {
   "cell_type": "markdown",
   "metadata": {},
   "source": [
    "# Synthetic Signal"
   ]
  },
  {
   "cell_type": "markdown",
   "metadata": {},
   "source": [
    "## Synthetic ECG Signal"
   ]
  },
  {
   "cell_type": "code",
   "execution_count": null,
   "metadata": {},
   "outputs": [],
   "source": [
    "from vitalDSP.utils.synthesize_data import generate_ecg_signal\n",
    "import numpy as np\n",
    "from plotly import graph_objects as go\n",
    "import matplotlib.pyplot as plt\n",
    "\n",
    "gen_sig, peaks = generate_ecg_signal(sfecg=32, N=16, Anoise=0.01, hrmean=70, sfint=128)\n",
    "fig = go.Figure()\n",
    "fig.add_trace(go.Scatter(x=np.arange(len(gen_sig)),y=gen_sig,mode=\"lines\"))\n",
    "fig.show()\n",
    "\n",
    "# Plot the ECG signal with Matplotlib\n",
    "plt.figure(figsize=(10, 6))\n",
    "plt.plot(np.arange(len(gen_sig)), gen_sig, linestyle='-', color='blue')\n",
    "plt.title('Generated ECG Signal')\n",
    "plt.xlabel('Time (samples)')\n",
    "plt.ylabel('Amplitude')\n",
    "plt.grid(True)\n",
    "plt.show()"
   ]
  },
  {
   "cell_type": "markdown",
   "metadata": {},
   "source": [
    "## Synthetic PPG Signal"
   ]
  },
  {
   "cell_type": "code",
   "execution_count": null,
   "metadata": {},
   "outputs": [],
   "source": [
    "from vitalDSP.utils.synthesize_data import generate_synthetic_ppg, generate_synthetic_ppg_reversed\n",
    "import numpy as np\n",
    "from plotly import graph_objects as go\n",
    "import matplotlib.pyplot as plt\n",
    "\n",
    "time, ppg_signal = generate_synthetic_ppg(duration=10, heart_rate=60, display=False)\n",
    "fig = go.Figure()\n",
    "fig.add_trace(go.Scatter(x=time,y=ppg_signal,mode=\"lines\"))\n",
    "fig.show()\n",
    "\n",
    "# Plot the first PPG signal\n",
    "plt.figure(figsize=(10, 6))\n",
    "plt.plot(time, ppg_signal, linestyle='-', color='blue')\n",
    "plt.title('Synthetic PPG Signal')\n",
    "plt.xlabel('Time (seconds)')\n",
    "plt.ylabel('Amplitude')\n",
    "plt.grid(True)\n",
    "plt.show()\n",
    "\n",
    "time, ppg_signal_reversed = generate_synthetic_ppg_reversed(duration=10, heart_rate=60, display=False)\n",
    "fig = go.Figure()\n",
    "fig.add_trace(go.Scatter(x=time,y=ppg_signal_reversed,mode=\"lines\"))\n",
    "fig.show()\n",
    "\n",
    "# Plot the reversed PPG signal\n",
    "plt.figure(figsize=(10, 6))\n",
    "plt.plot(time, ppg_signal_reversed, linestyle='-', color='red')\n",
    "plt.title('Reversed Synthetic PPG Signal')\n",
    "plt.xlabel('Time (seconds)')\n",
    "plt.ylabel('Amplitude')\n",
    "plt.grid(True)\n",
    "plt.show()"
   ]
  },
  {
   "cell_type": "markdown",
   "metadata": {},
   "source": [
    "## Synthetic Respiratory Signal   "
   ]
  },
  {
   "cell_type": "code",
   "execution_count": null,
   "metadata": {},
   "outputs": [],
   "source": [
    "from vitalDSP.utils.synthesize_data import generate_resp_signal\n",
    "import numpy as np\n",
    "from plotly import graph_objects as go\n",
    "import matplotlib.pyplot as plt\n",
    "\n",
    "resp_signal = generate_resp_signal(sampling_rate=1000.0, duration=20.0)\n",
    "fig = go.Figure()\n",
    "fig.add_trace(go.Scatter(x=np.arange(len(resp_signal)),y=resp_signal,mode=\"lines\"))\n",
    "fig.show()\n",
    "\n",
    "plt.figure(figsize=(10, 6))\n",
    "plt.plot(resp_signal, linestyle='-')\n",
    "plt.title('Respiratory Signal')\n",
    "plt.xlabel('Time (seconds)')\n",
    "plt.ylabel('Amplitude')\n",
    "plt.grid(True)\n",
    "plt.show()"
   ]
  }
 ],
 "metadata": {
  "kernelspec": {
   "display_name": "wearables",
   "language": "python",
   "name": "python3"
  },
  "language_info": {
   "codemirror_mode": {
    "name": "ipython",
    "version": 3
   },
   "file_extension": ".py",
   "mimetype": "text/x-python",
   "name": "python",
   "nbconvert_exporter": "python",
   "pygments_lexer": "ipython3",
   "version": "3.10.14"
  }
 },
 "nbformat": 4,
 "nbformat_minor": 2
}
