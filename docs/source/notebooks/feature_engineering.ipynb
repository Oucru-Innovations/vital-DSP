{
 "cells": [
  {
   "cell_type": "markdown",
   "metadata": {},
   "source": [
    "# Feature Engineering"
   ]
  },
  {
   "cell_type": "markdown",
   "metadata": {},
   "source": [
    "## Morphology Features"
   ]
  },
  {
   "cell_type": "code",
   "execution_count": null,
   "metadata": {},
   "outputs": [],
   "source": [
    "from vitalDSP.filtering.signal_filtering import SignalFiltering\n",
    "import numpy as np\n",
    "from plotly import graph_objects as go\n",
    "import os\n",
    "from vitalDSP.notebooks import process_in_chunks, plot_trace\n",
    "from vitalDSP.feature_engineering.morphology_features import PhysiologicalFeatureExtractor,\\\n",
    "    PreprocessConfig\n",
    "fs = 100\n",
    "FILE_PATH = os.path.join(\"..\",\"..\",\"..\",\"sample_data\",\"public\",\"ppg.csv\")\n",
    "signal_col, date_col = process_in_chunks(FILE_PATH,data_type='ppg', fs=fs)\n",
    "signal_col = np.array(signal_col)\n",
    "\n",
    "preprocess_config = PreprocessConfig(\n",
    "    filter_type=\"butterworth\",\n",
    "    lowcut=0.5,\n",
    "    highcut=5,\n",
    "    order=4,\n",
    "    noise_reduction_method=\"wavelet\"\n",
    ")\n",
    "extractor = PhysiologicalFeatureExtractor(signal_col, fs=fs)\n",
    "features = extractor.extract_features(signal_type=\"ECG\", preprocess_config=preprocess_config)\n",
    "print(features)"
   ]
  }
 ],
 "metadata": {
  "kernelspec": {
   "display_name": "wearables",
   "language": "python",
   "name": "python3"
  },
  "language_info": {
   "codemirror_mode": {
    "name": "ipython",
    "version": 3
   },
   "file_extension": ".py",
   "mimetype": "text/x-python",
   "name": "python",
   "nbconvert_exporter": "python",
   "pygments_lexer": "ipython3",
   "version": "3.10.14"
  }
 },
 "nbformat": 4,
 "nbformat_minor": 2
}
