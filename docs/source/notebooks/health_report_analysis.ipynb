{
 "cells": [
  {
   "cell_type": "markdown",
   "metadata": {},
   "source": [
    "## Health Report Analysis"
   ]
  },
  {
   "cell_type": "code",
   "execution_count": 1,
   "metadata": {},
   "outputs": [],
   "source": [
    "from IPython.display import HTML, display, display_html\n",
    "from vitalDSP.health_analysis.health_report_generator import HealthReportGenerator\n"
   ]
  },
  {
   "cell_type": "code",
   "execution_count": null,
   "metadata": {},
   "outputs": [],
   "source": [
    "# Example feature data for a 1-minute segment\n",
    "feature_data = {\n",
    "        \"sdnn\": 35.0,\n",
    "        \"rmssd\": 45.0,\n",
    "        \"nn50\": 30,\n",
    "        \"pnn50\": 28.5,\n",
    "        \"mean_nn\": 750.0,\n",
    "        \"median_nn\": 745.0,\n",
    "        \"iqr_nn\": 60.0,\n",
    "        \"std_nn\": 25.0,\n",
    "        \"pnn20\": 40.0,\n",
    "        \"cvnn\": 0.12,\n",
    "        \"hrv_triangular_index\": 5.5,\n",
    "        \"tinn\": 40.0,\n",
    "        \"sdsd\": 35.0,\n",
    "        \"lf_power\": 800.0,\n",
    "        \"hf_power\": 600.0,\n",
    "        \"lf_hf_ratio\": 1.33,\n",
    "        \"ulf_power\": 200.0,\n",
    "        \"vlf_power\": 300.0,\n",
    "        \"total_power\": 1600.0,\n",
    "        \"lfnu_power\": 45.0,\n",
    "        \"hfnu_power\": 35.0,\n",
    "        \"fractal_dimension\": 1.25,\n",
    "        # \"lyapunov_exponent\": 0.85,\n",
    "        \"dfa\": 1.2,\n",
    "        \"poincare_sd1\": 28.5,\n",
    "        \"poincare_sd2\": 45.0,\n",
    "        \"sample_entropy\": 0.85,\n",
    "        \"approximate_entropy\": 0.72,\n",
    "        \"recurrence_rate\": 0.65,\n",
    "        \"determinism\": 0.78,\n",
    "        \"laminarity\": 0.85,\n",
    "        \"systolic_duration\": 0.35,\n",
    "        \"diastolic_duration\": 0.5,\n",
    "        \"systolic_area\": 200.0,\n",
    "        \"diastolic_area\": 180.0,\n",
    "        \"systolic_slope\": 1.5,\n",
    "        \"diastolic_slope\": 1.2,\n",
    "        \"signal_skewness\": 0.1,\n",
    "        \"peak_trend_slope\": 0.05,\n",
    "        \"systolic_amplitude_variability\": 5.0,\n",
    "        \"diastolic_amplitude_variability\": 4.8,\n",
    "    }\n",
    "\n",
    "# Initialize the health report generator\n",
    "report_generator = HealthReportGenerator(\n",
    "        feature_data=feature_data, segment_duration=\"1_min\"\n",
    "    )\n",
    "\n",
    "# Generate the report (HTML)\n",
    "report_html = report_generator.generate()"
   ]
  },
  {
   "cell_type": "markdown",
   "metadata": {},
   "source": [
    "### Display the health analysis report"
   ]
  },
  {
   "cell_type": "code",
   "execution_count": null,
   "metadata": {},
   "outputs": [],
   "source": [
    "display(HTML(report_html))"
   ]
  },
  {
   "cell_type": "markdown",
   "metadata": {},
   "source": [
    "### Save the health report as HTML file"
   ]
  },
  {
   "cell_type": "code",
   "execution_count": null,
   "metadata": {},
   "outputs": [],
   "source": [
    "# Write the HTML content to a file\n",
    "with open(\"report.html\", \"w\") as file:\n",
    "    file.write(report_html)"
   ]
  },
  {
   "cell_type": "markdown",
   "metadata": {},
   "source": [
    "### Display the HTML file in the notebook"
   ]
  },
  {
   "cell_type": "code",
   "execution_count": null,
   "metadata": {},
   "outputs": [],
   "source": [
    "# Display the HTML file in the notebook\n",
    "display_html('<iframe src=\"report.html\" width=700 height=350></iframe>', raw=True)"
   ]
  }
 ],
 "metadata": {
  "kernelspec": {
   "display_name": "wearables",
   "language": "python",
   "name": "python3"
  },
  "language_info": {
   "codemirror_mode": {
    "name": "ipython",
    "version": 3
   },
   "file_extension": ".py",
   "mimetype": "text/x-python",
   "name": "python",
   "nbconvert_exporter": "python",
   "pygments_lexer": "ipython3",
   "version": "3.9.17"
  }
 },
 "nbformat": 4,
 "nbformat_minor": 2
}
