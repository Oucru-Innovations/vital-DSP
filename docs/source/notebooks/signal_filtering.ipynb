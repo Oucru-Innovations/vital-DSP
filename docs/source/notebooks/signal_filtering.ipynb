{
 "cells": [
  {
   "cell_type": "markdown",
   "metadata": {},
   "source": [
    "# Signal Filtering\n"
   ]
  },
  {
   "cell_type": "markdown",
   "metadata": {},
   "source": [
    "## Savgol Filter"
   ]
  },
  {
   "cell_type": "code",
   "execution_count": null,
   "metadata": {},
   "outputs": [],
   "source": [
    "from vitalDSP.filtering.signal_filtering import SignalFiltering\n",
    "import numpy as np\n",
    "from plotly import graph_objects as go\n",
    "import os\n",
    "from vitalDSP.notebooks import process_in_chunks, plot_trace\n",
    "\n",
    "\n",
    "FILE_PATH = os.path.join(\"..\",\"..\",\"..\",\"sample_data\",\"public\",\"ecg.csv\")\n",
    "signal_col, date_col = process_in_chunks(FILE_PATH,data_type='ecg', fs=256)\n",
    "signal_col = np.array(signal_col)\n",
    "\n",
    "sf = SignalFiltering(signal_col)\n",
    "filtered_sig = sf.savgol_filter(signal_col,window_length=9,polyorder=2)\n",
    "\n",
    "plot_trace(signal_col,filtered_sig)"
   ]
  },
  {
   "cell_type": "markdown",
   "metadata": {},
   "source": [
    "## Moving Average"
   ]
  },
  {
   "cell_type": "code",
   "execution_count": null,
   "metadata": {},
   "outputs": [],
   "source": [
    "from vitalDSP.filtering.signal_filtering import SignalFiltering\n",
    "import numpy as np\n",
    "from plotly import graph_objects as go\n",
    "import os\n",
    "from vitalDSP.notebooks import process_in_chunks, plot_trace\n",
    "\n",
    "\n",
    "FILE_PATH = os.path.join(\"..\",\"..\",\"..\",\"sample_data\",\"public\",\"ecg.csv\")\n",
    "signal_col, date_col = process_in_chunks(FILE_PATH,data_type='ecg', fs=256)\n",
    "signal_col = np.array(signal_col)\n",
    "\n",
    "sf = SignalFiltering(signal_col)\n",
    "filtered_sig = sf.moving_average(window_size=9)\n",
    "\n",
    "plot_trace(signal_col,filtered_sig)"
   ]
  },
  {
   "cell_type": "markdown",
   "metadata": {},
   "source": [
    "## Gaussian Filtering"
   ]
  },
  {
   "cell_type": "code",
   "execution_count": null,
   "metadata": {},
   "outputs": [],
   "source": [
    "from vitalDSP.filtering.signal_filtering import SignalFiltering\n",
    "import numpy as np\n",
    "from plotly import graph_objects as go\n",
    "import os\n",
    "from vitalDSP.notebooks import process_in_chunks, plot_trace\n",
    "\n",
    "\n",
    "FILE_PATH = os.path.join(\"..\",\"..\",\"..\",\"sample_data\",\"public\",\"ecg.csv\")\n",
    "signal_col, date_col = process_in_chunks(FILE_PATH,data_type='ecg', fs=256)\n",
    "signal_col = np.array(signal_col)\n",
    "\n",
    "sf = SignalFiltering(signal_col)\n",
    "filtered_sig = sf.gaussian(sigma=2)\n",
    "\n",
    "plot_trace(signal_col,filtered_sig)"
   ]
  },
  {
   "cell_type": "markdown",
   "metadata": {},
   "source": [
    "## Butterworth"
   ]
  },
  {
   "cell_type": "code",
   "execution_count": null,
   "metadata": {},
   "outputs": [],
   "source": [
    "from vitalDSP.filtering.signal_filtering import SignalFiltering\n",
    "import numpy as np\n",
    "from plotly import graph_objects as go\n",
    "import os\n",
    "from vitalDSP.notebooks import process_in_chunks, plot_trace\n",
    "\n",
    "\n",
    "FILE_PATH = os.path.join(\"..\",\"..\",\"..\",\"sample_data\",\"public\",\"ecg.csv\")\n",
    "signal_col, date_col = process_in_chunks(FILE_PATH,data_type='ecg', fs=256)\n",
    "signal_col = np.array(signal_col)\n",
    "\n",
    "sf = SignalFiltering(signal_col)\n",
    "filtered_sig = sf.butterworth(cutoff=0.5, fs=256, order=4)\n",
    "\n",
    "plot_trace(signal_col,filtered_sig)"
   ]
  },
  {
   "cell_type": "markdown",
   "metadata": {},
   "source": [
    "## Median"
   ]
  },
  {
   "cell_type": "code",
   "execution_count": null,
   "metadata": {},
   "outputs": [],
   "source": [
    "from vitalDSP.filtering.signal_filtering import SignalFiltering\n",
    "import numpy as np\n",
    "from plotly import graph_objects as go\n",
    "import os\n",
    "from vitalDSP.notebooks import process_in_chunks, plot_trace\n",
    "\n",
    "\n",
    "FILE_PATH = os.path.join(\"..\",\"..\",\"..\",\"sample_data\",\"public\",\"ecg.csv\")\n",
    "signal_col, date_col = process_in_chunks(FILE_PATH,data_type='ecg', fs=256)\n",
    "signal_col = np.array(signal_col)\n",
    "\n",
    "sf = SignalFiltering(signal_col)\n",
    "filtered_sig = sf.median(kernel_size=9,iterations=2)\n",
    "\n",
    "plot_trace(signal_col,filtered_sig)"
   ]
  }
 ],
 "metadata": {
  "kernelspec": {
   "display_name": "Python 3",
   "name": "python3"
  },
  "language_info": {
   "codemirror_mode": {
    "name": "ipython",
    "version": 3
   },
   "file_extension": ".py",
   "mimetype": "text/x-python",
   "name": "python",
   "nbconvert_exporter": "python",
   "pygments_lexer": "ipython3",
   "version": "3.10.14"
  }
 },
 "nbformat": 4,
 "nbformat_minor": 2
}
