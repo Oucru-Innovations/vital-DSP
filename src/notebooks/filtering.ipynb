{
 "cells": [
  {
   "cell_type": "code",
   "execution_count": null,
   "metadata": {},
   "outputs": [],
   "source": [
    "import numpy as np\n",
    "import ast\n",
    "import os\n",
    "import datetime as dt\n",
    "import sys\n",
    "import plotly.graph_objs as go\n",
    "import matplotlib.pyplot as plt\n",
    "import pandas as pd"
   ]
  },
  {
   "cell_type": "code",
   "execution_count": null,
   "metadata": {},
   "outputs": [],
   "source": [
    "def get_flat(x, flat):\n",
    "    # Use list comprehension for efficiency\n",
    "    flat.extend(ast.literal_eval(x))\n",
    "\n",
    "def get_flat_timestamp(x, flat, fs=100):\n",
    "    format1 = \"%Y-%m-%d %H:%M:%S.%f%z\"\n",
    "    format2 = \"%Y-%m-%d %H:%M:%S%z\"\n",
    "    \n",
    "    # Convert timestamp to datetime once\n",
    "    try:\n",
    "        start_time_converted = dt.datetime.strptime(x, format1)\n",
    "    except ValueError:\n",
    "        start_time_converted = dt.datetime.strptime(x, format2)\n",
    "    \n",
    "    # Generate list of timestamps using NumPy for efficiency\n",
    "    time_deltas = np.arange(fs) * (1 / fs)  # create array of time deltas\n",
    "    dt_list = start_time_converted + np.array([dt.timedelta(seconds=td) for td in time_deltas])\n",
    "    \n",
    "    flat.extend(dt_list)\n",
    "\n",
    "def safe_get_flat_ecg_timestamp(row, shifted_series, flat, fs=100):\n",
    "    try:\n",
    "        next_x = shifted_series.loc[row.name]\n",
    "        get_flat_ecg_timestamp(row['timestamp'], next_x['timestamp'], flat, fs)\n",
    "    except Exception:\n",
    "        get_flat_timestamp(row['timestamp'], flat, fs)\n",
    "\n",
    "def get_flat_ecg_timestamp(x, next_x, flat, fs=100):\n",
    "    format1 = \"%Y-%m-%d %H:%M:%S.%f%z\"\n",
    "    format2 = \"%Y-%m-%d %H:%M:%S%z\"\n",
    "    \n",
    "    # Parse timestamps once\n",
    "    try:\n",
    "        start_time_converted = dt.datetime.strptime(x, format1)\n",
    "        end_time_converted = dt.datetime.strptime(next_x, format1)\n",
    "    except ValueError:\n",
    "        start_time_converted = dt.datetime.strptime(x, format2)\n",
    "        end_time_converted = dt.datetime.strptime(next_x, format2)\n",
    "\n",
    "    # Calculate the number of samples and time intervals using NumPy\n",
    "    total_duration = (end_time_converted - start_time_converted).total_seconds()\n",
    "    num_samples = int(total_duration * fs)\n",
    "    time_deltas = np.arange(num_samples) * (1 / fs)  # array of time deltas\n",
    "\n",
    "    dt_list = start_time_converted + np.array([dt.timedelta(seconds=td) for td in time_deltas])\n",
    "    flat.extend(dt_list)\n"
   ]
  },
  {
   "cell_type": "code",
   "execution_count": null,
   "metadata": {},
   "outputs": [],
   "source": [
    "# Load data\n",
    "PPG_PATH = os.path.join(\"..\",\"..\",\"sample_data\", \"ecg.csv\")\n",
    "df_ppg = pd.read_csv(PPG_PATH)\n",
    "\n",
    "# Initialize empty lists to collect data\n",
    "signal_col = []\n",
    "df_ppg['ecg'].apply(get_flat, flat=signal_col)\n",
    "\n",
    "date_col = []\n",
    "fs = 100\n",
    "df_ppg['timestamp'].apply(get_flat_timestamp, flat=date_col, fs=fs)\n",
    "\n",
    "fig = go.Figure()\n",
    "fig.add_trace(go.Scatter(y=signal_col ,mode=\"lines\"))\n",
    "fig.show()"
   ]
  },
  {
   "cell_type": "code",
   "execution_count": null,
   "metadata": {},
   "outputs": [],
   "source": [
    "!pip install -e \"../../.\""
   ]
  },
  {
   "cell_type": "code",
   "execution_count": null,
   "metadata": {},
   "outputs": [],
   "source": [
    "import os,sys\n",
    "sys.path.append(\"..\")\n",
    "from vitalDSP.visualization.filtering_visualization import FilteringVisualization\n",
    "\n",
    "filter = FilteringVisualization(signal_col)\n",
    "FilteringVisualization.visualize_all_filters()\n"
   ]
  }
 ],
 "metadata": {
  "kernelspec": {
   "display_name": "wearables",
   "language": "python",
   "name": "python3"
  },
  "language_info": {
   "codemirror_mode": {
    "name": "ipython",
    "version": 3
   },
   "file_extension": ".py",
   "mimetype": "text/x-python",
   "name": "python",
   "nbconvert_exporter": "python",
   "pygments_lexer": "ipython3",
   "version": "3.9.17"
  }
 },
 "nbformat": 4,
 "nbformat_minor": 2
}
