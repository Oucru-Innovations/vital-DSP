{
 "cells": [
  {
   "cell_type": "code",
   "execution_count": null,
   "metadata": {},
   "outputs": [],
   "source": [
    "from vitalDSP.utils.synthesize_data import \\\n",
    "                    generate_ecg_signal, \\\n",
    "                    generate_noisy_signal, \\\n",
    "                    generate_sinusoidal, \\\n",
    "                    generate_resp_signal, \\\n",
    "                    generate_square_wave\n",
    "import pandas as pd\n",
    "from functools import partial\n",
    "import numpy as np\n",
    "from plotly import graph_objects as go"
   ]
  },
  {
   "cell_type": "code",
   "execution_count": null,
   "metadata": {},
   "outputs": [],
   "source": [
    "                    \n",
    "gen_sig, peaks = generate_ecg_signal(sfecg=128, N=64, Anoise=0.01, hrmean=80, sfint=128)\n",
    "\n",
    "fig = go.Figure()\n",
    "fig.add_trace(go.Scatter(x=np.arange(len(gen_sig)),y=gen_sig,mode=\"lines\"))\n",
    "fig.show()"
   ]
  }
 ],
 "metadata": {
  "kernelspec": {
   "display_name": "wearables",
   "language": "python",
   "name": "python3"
  },
  "language_info": {
   "codemirror_mode": {
    "name": "ipython",
    "version": 3
   },
   "file_extension": ".py",
   "mimetype": "text/x-python",
   "name": "python",
   "nbconvert_exporter": "python",
   "pygments_lexer": "ipython3",
   "version": "3.9.17"
  }
 },
 "nbformat": 4,
 "nbformat_minor": 2
}
